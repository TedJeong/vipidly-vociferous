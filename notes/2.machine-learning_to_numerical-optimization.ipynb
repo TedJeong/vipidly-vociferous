{
 "cells": [
  {
   "cell_type": "markdown",
   "metadata": {},
   "source": [
    "# 데이터 마이닝, 머신러닝 부터 최적화 문제까지\n",
    "\n",
    "## 범위\n",
    "\n",
    "- **Video Tutorial**\n",
    "\n",
    "    * Basic : Coursera, MIT CS 6.034\n",
    "    * ConvNet : Stanford CS231n 2016\n",
    "    * Deep Reinforcement learning : UCB CS294 2017\n",
    "    * Generative Adversarial Network : NIPS tutorial 2016\n",
    "\n",
    "- **Docs**\n",
    "\n",
    "    * sklearn user guide\n",
    "\n",
    "- **Papers**\n",
    "\n",
    "    * \n",
    "\n",
    "- **Notebook Scope**\n",
    "\n",
    "    * Basic Statistics\n",
    "    * Basic Information Theory\n",
    "    * Machine learning Algorithm\n",
    "    * Numerical Optimization"
   ]
  },
  {
   "cell_type": "markdown",
   "metadata": {},
   "source": [
    "## Basic Statistics\n",
    "\n",
    "This is basic."
   ]
  },
  {
   "cell_type": "code",
   "execution_count": null,
   "metadata": {
    "collapsed": true
   },
   "outputs": [],
   "source": [
    "import numpy as np"
   ]
  },
  {
   "cell_type": "code",
   "execution_count": null,
   "metadata": {
    "collapsed": true
   },
   "outputs": [],
   "source": []
  }
 ],
 "metadata": {
  "kernelspec": {
   "display_name": "Python 3",
   "language": "python",
   "name": "python3"
  },
  "language_info": {
   "codemirror_mode": {
    "name": "ipython",
    "version": 3
   },
   "file_extension": ".py",
   "mimetype": "text/x-python",
   "name": "python",
   "nbconvert_exporter": "python",
   "pygments_lexer": "ipython3",
   "version": "3.5.2"
  }
 },
 "nbformat": 4,
 "nbformat_minor": 2
}
