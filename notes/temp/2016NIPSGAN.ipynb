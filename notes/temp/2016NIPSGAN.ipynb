{
 "cells": [
  {
   "cell_type": "markdown",
   "metadata": {},
   "source": [
    "[NIPS 2016 tutorial Goodfellow](https://channel9.msdn.com/Events/Neural-Information-Processing-Systems-Conference/Neural-Information-Processing-Systems-Conference-NIPS-2016/Generative-Adversarial-Networks)\n",
    "[Goodfellow](http://www.iangoodfellow.com/presentations.html)\n",
    "\n",
    "## Density Estimation\n",
    "\n",
    "## Sample Generation\n",
    "\n",
    "Possible Simulation futures for planning RL\n",
    "Single Image Super-Resolution"
   ]
  },
  {
   "cell_type": "markdown",
   "metadata": {},
   "source": [
    "Maximum Likelihood\n",
    "\n",
    "\\begin{equation*}\n",
    "\\theta^* = (argmax)_{\\theta} \\mathbf{E}_{x  p_{data}} log P_{model} \\left( x | \\theta \\right)\n",
    "\\end{equation*}"
   ]
  },
  {
   "cell_type": "markdown",
   "metadata": {},
   "source": [
    "Markov chain breakdown with high dimension?"
   ]
  },
  {
   "cell_type": "markdown",
   "metadata": {},
   "source": [
    "Explicit Tractable \n",
    "\n",
    "Fully Visible Belief Nets\n",
    ": disadvantages : Samples Generation is slow.\n",
    "- WaveNet\n",
    "\n",
    "\n",
    "\\begin{equation*}\n",
    "y = g \\left( x \\right) \n",
    "\\Longrightarrow p_x \\left( x \\right) \n",
    "= p_y \\left( g \\left( x \\right) \\right) \n",
    "\\big| det \n",
    "\\frac{\\partial {g \\left( x \\right)}}{ \\partial x } \n",
    "\\big|\n",
    "\\end{equation*}\n",
    "\n",
    "\n",
    "\n",
    "Change of Variables\n",
    ": disadvantages : \n",
    "- Nonlinear ICA\n",
    "\n",
    "\n",
    "Variational Autoencoder"
   ]
  },
  {
   "cell_type": "code",
   "execution_count": null,
   "metadata": {
    "collapsed": true
   },
   "outputs": [],
   "source": []
  }
 ],
 "metadata": {
  "kernelspec": {
   "display_name": "Python 3",
   "language": "python",
   "name": "python3"
  },
  "language_info": {
   "codemirror_mode": {
    "name": "ipython",
    "version": 3
   },
   "file_extension": ".py",
   "mimetype": "text/x-python",
   "name": "python",
   "nbconvert_exporter": "python",
   "pygments_lexer": "ipython3",
   "version": "3.5.2"
  }
 },
 "nbformat": 4,
 "nbformat_minor": 2
}
