{
 "cells": [
  {
   "cell_type": "markdown",
   "metadata": {},
   "source": [
    "Sources :\n",
    "\n",
    "\n",
    "- [NIPS 2016 tutorial Goodfellow](https://channel9.msdn.com/Events/Neural-Information-Processing-Systems-Conference/Neural-Information-Processing-Systems-Conference-NIPS-2016/Generative-Adversarial-Networks)\n",
    "\n",
    "- slides are taken from NIPS tutorial [Goodfellow](http://www.iangoodfellow.com/slides/2016-12-04-NIPS.pdf)\n",
    "\n",
    "## Density Estimation\n",
    "\n",
    "## Sample Generation\n",
    "\n",
    "Possible Simulation futures for planning RL\n",
    "Single Image Super-Resolution"
   ]
  },
  {
   "cell_type": "markdown",
   "metadata": {},
   "source": [
    "Maximum Likelihood\n",
    "\n",
    "\\begin{equation*}\n",
    "\\theta^* = (argmax)_{\\theta} \\mathbf{E}_{x  p_{data}} log P_{model} \\left( x | \\theta \\right)\n",
    "\\end{equation*}"
   ]
  },
  {
   "cell_type": "markdown",
   "metadata": {},
   "source": [
    "Markov chain breakdown with high dimension?"
   ]
  },
  {
   "cell_type": "markdown",
   "metadata": {},
   "source": [
    "Explicit Tractable \n",
    "\n",
    "Fully Visible Belief Nets\n",
    ": disadvantages : Samples Generation is slow.\n",
    "- WaveNet\n",
    "\n",
    "\n",
    "\\begin{equation*}\n",
    "y = g \\left( x \\right) \n",
    "\\Longrightarrow p_x \\left( x \\right) \n",
    "= p_y \\left( g \\left( x \\right) \\right) \n",
    "\\big| det \n",
    "\\frac{\\partial {g \\left( x \\right)}}{ \\partial x } \n",
    "\\big|\n",
    "\\end{equation*}\n",
    "\n",
    "\n",
    "\n",
    "Change of Variables\n",
    ": disadvantages : \n",
    "- Nonlinear ICA\n",
    "\n",
    "\n",
    "Variational Autoencoder"
   ]
  },
  {
   "cell_type": "markdown",
   "metadata": {
    "collapsed": true
   },
   "source": [
    "![Taxonomy of GAN](../img/GAN/NIPS01.png)"
   ]
  },
  {
   "cell_type": "markdown",
   "metadata": {},
   "source": [
    "## Minimax game\n",
    "\n",
    "Think about zero-sum game, such as chess..\n",
    "Minimax game set an equilibrium point by choosing a strategy for\n",
    "minimizing opponent's maximum profit."
   ]
  },
  {
   "cell_type": "markdown",
   "metadata": {},
   "source": [
    "![minimax1](../img/GAN/minimax01.png)\n",
    "![minimax2](../img/GAN/minimax02.png)\n",
    "\n",
    "\n",
    "[youtube](https://www.youtube.com/watch?v=uzsnQ1a9fq0)"
   ]
  },
  {
   "cell_type": "markdown",
   "metadata": {},
   "source": [
    "Mathematically,\n",
    "\n"
   ]
  },
  {
   "cell_type": "markdown",
   "metadata": {},
   "source": [
    "## GAN architecture"
   ]
  },
  {
   "cell_type": "markdown",
   "metadata": {},
   "source": [
    "![GAN basic](../img/GAN/NIPS02.png)"
   ]
  },
  {
   "cell_type": "markdown",
   "metadata": {},
   "source": [
    "### Mode Collapse\n",
    "\n",
    "min Gen max Discrim"
   ]
  },
  {
   "cell_type": "markdown",
   "metadata": {},
   "source": [
    "## DCGAN architecture\n",
    "\n",
    "Most deconvs are batch normalized.\n",
    "Pooling layer : No inverse of pooling."
   ]
  },
  {
   "cell_type": "markdown",
   "metadata": {},
   "source": [
    "![DCGAN](../img/GAN/NIPS03.png)"
   ]
  },
  {
   "cell_type": "markdown",
   "metadata": {},
   "source": [
    "## GAN to RL"
   ]
  }
 ],
 "metadata": {
  "kernelspec": {
   "display_name": "Python 3",
   "language": "python",
   "name": "python3"
  },
  "language_info": {
   "codemirror_mode": {
    "name": "ipython",
    "version": 3
   },
   "file_extension": ".py",
   "mimetype": "text/x-python",
   "name": "python",
   "nbconvert_exporter": "python",
   "pygments_lexer": "ipython3",
   "version": "3.5.2"
  }
 },
 "nbformat": 4,
 "nbformat_minor": 2
}
